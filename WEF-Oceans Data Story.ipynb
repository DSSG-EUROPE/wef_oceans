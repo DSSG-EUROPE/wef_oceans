{
 "cells": [
  {
   "cell_type": "code",
   "execution_count": 17,
   "metadata": {
    "collapsed": true
   },
   "outputs": [],
   "source": [
    "import psycopg2\n",
    "import pandas as pd\n",
    "import datetime\n",
    "import shapely"
   ]
  },
  {
   "cell_type": "code",
   "execution_count": 28,
   "metadata": {},
   "outputs": [
    {
     "name": "stdout",
     "output_type": "stream",
     "text": [
      "0      MULTIPOLYGON(((142.1453524 -10.5029861, 142.36...\n",
      "1      MULTIPOLYGON(((142.1531241 -10.80287813, 142.3...\n",
      "2      MULTIPOLYGON(((142.2644451 -10.80582383, 142.4...\n",
      "3      MULTIPOLYGON(((142.5044171 -9.294755032, 142.6...\n",
      "4      MULTIPOLYGON(((142.3253557 -10.82007855, 142.4...\n",
      "5      MULTIPOLYGON(((142.2778162 -10.87718206, 142.3...\n",
      "6      MULTIPOLYGON(((142.1995686 -10.19949122, 142.3...\n",
      "7      MULTIPOLYGON(((142.2145778 -10.13984084, 142.3...\n",
      "8      MULTIPOLYGON(((142.2979277 -10.86376932, 142.3...\n",
      "9      MULTIPOLYGON(((141.5406207 -8.979305446, 141.7...\n",
      "10     MULTIPOLYGON(((142.9250632 -10.30107587, 142.7...\n",
      "11     MULTIPOLYGON(((142.741833 -10.15742975, 142.90...\n",
      "12     MULTIPOLYGON(((142.3944658 -10.11156505, 142.3...\n",
      "13     MULTIPOLYGON(((143.6765772 -9.544605703, 143.8...\n",
      "14     MULTIPOLYGON(((142.4970959 -9.286766287, 142.6...\n",
      "15     MULTIPOLYGON(((142.3003942 -10.73137756, 142.4...\n",
      "16     MULTIPOLYGON(((142.1105221 -10.10577578, 142.2...\n",
      "17     MULTIPOLYGON(((142.7813253 -10.10216603, 142.9...\n",
      "18     MULTIPOLYGON(((142.8035872 -10.0938414, 142.94...\n",
      "19     MULTIPOLYGON(((142.6005074 -9.307624703, 142.7...\n",
      "20     MULTIPOLYGON(((142.5951651 -9.287649625, 142.7...\n",
      "21     MULTIPOLYGON(((142.1129877 -10.02951976, 142.2...\n",
      "22     MULTIPOLYGON(((142.2267477 -10.49775896, 142.3...\n",
      "23     MULTIPOLYGON(((142.3739354 -10.93210532, 142.2...\n",
      "24     MULTIPOLYGON(((142.4422384 -10.92979527, 142.3...\n",
      "25     MULTIPOLYGON(((143.2848342 -9.705620195, 143.4...\n",
      "26     MULTIPOLYGON(((142.2113211 -10.11826203, 142.3...\n",
      "27     MULTIPOLYGON(((142.2027461 -10.20714334, 142.3...\n",
      "28     MULTIPOLYGON(((142.2654442 -10.25953374, 142.3...\n",
      "29     MULTIPOLYGON(((142.2396964 -10.48559206, 142.4...\n",
      "                             ...                        \n",
      "129    MULTIPOLYGON(((142.346193 -10.9277384, 142.191...\n",
      "130    MULTIPOLYGON(((142.6846468 -9.789541467, 142.8...\n",
      "131    MULTIPOLYGON(((142.1847552 -10.18353131, 142.3...\n",
      "132    MULTIPOLYGON(((142.2829617 -10.80548081, 142.4...\n",
      "133    MULTIPOLYGON(((143.2733288 -9.690865994, 143.4...\n",
      "134    MULTIPOLYGON(((142.2959372 -10.86209055, 142.3...\n",
      "135    MULTIPOLYGON(((142.2853001 -10.87118364, 142.4...\n",
      "136    MULTIPOLYGON(((142.2784452 -10.26422462, 142.3...\n",
      "137    MULTIPOLYGON(((142.3548219 -10.48604403, 142.5...\n",
      "138    MULTIPOLYGON(((142.19894 -10.73105284, 142.331...\n",
      "139    MULTIPOLYGON(((142.0834538 -10.10521711, 142.2...\n",
      "140    MULTIPOLYGON(((142.1241143 -10.03322073, 142.2...\n",
      "141    MULTIPOLYGON(((142.1682381 -10.20437434, 142.2...\n",
      "142    MULTIPOLYGON(((142.1576467 -10.21334656, 142.2...\n",
      "143    MULTIPOLYGON(((141.1505523 -9.271101812, 141.0...\n",
      "144    MULTIPOLYGON(((143.0225727 -9.24236416, 143.03...\n",
      "145    MULTIPOLYGON(((143.0421256 -9.238614483, 143.0...\n",
      "146    MULTIPOLYGON(((143.6893515 -9.496201965, 143.8...\n",
      "147    MULTIPOLYGON(((142.6123954 -9.242994373, 142.7...\n",
      "148    MULTIPOLYGON(((142.4405547 -10.79539801, 142.4...\n",
      "149    MULTIPOLYGON(((142.0854663 -10.58599164, 142.2...\n",
      "150    MULTIPOLYGON(((142.1774192 -10.50412872, 142.3...\n",
      "151    MULTIPOLYGON(((142.0620569 -9.903708086, 142.2...\n",
      "152    MULTIPOLYGON(((142.1688393 -10.78035851, 142.3...\n",
      "153    MULTIPOLYGON(((142.4778516 -9.303169696, 142.7...\n",
      "154    MULTIPOLYGON(((142.2943166 -10.86082956, 142.3...\n",
      "155    MULTIPOLYGON(((142.2778652 -10.87633587, 142.3...\n",
      "156    MULTIPOLYGON(((142.3367114 -10.81107507, 142.4...\n",
      "157    MULTIPOLYGON(((142.267134 -10.88509461, 142.39...\n",
      "158    MULTIPOLYGON(((142.3258953 -10.82039452, 142.4...\n",
      "Name: footprintWkt, Length: 159, dtype: object\n"
     ]
    },
    {
     "name": "stderr",
     "output_type": "stream",
     "text": [
      "/opt/anaconda/lib/python2.7/site-packages/ipykernel_launcher.py:6: SettingWithCopyWarning: \n",
      "A value is trying to be set on a copy of a slice from a DataFrame.\n",
      "Try using .loc[row_indexer,col_indexer] = value instead\n",
      "\n",
      "See the caveats in the documentation: http://pandas.pydata.org/pandas-docs/stable/indexing.html#indexing-view-versus-copy\n",
      "  \n"
     ]
    }
   ],
   "source": [
    "digital_globe = pd.read_csv('../shared/imgs_metadata_2017.csv')\n",
    "print digital_globe['footprintWkt']\n",
    "cols = ['catalogID', 'timestamp', 'browseURL']\n",
    "images = digital_globe[cols]\n",
    "\n",
    "images['timestamp'] = images['timestamp'].values.astype('datetime64[s]')\n",
    "#print images['timestamp'].min()\n",
    "#print images['timestamp'].max()\n",
    "#print images['']"
   ]
  },
  {
   "cell_type": "code",
   "execution_count": 20,
   "metadata": {},
   "outputs": [
    {
     "name": "stdout",
     "output_type": "stream",
     "text": [
      "Connecting to the PostgreSQL database...\n",
      "Database connection closed.\n"
     ]
    },
    {
     "name": "stderr",
     "output_type": "stream",
     "text": [
      "/opt/anaconda/lib/python2.7/site-packages/ipykernel_launcher.py:7: DeprecationWarning: You passed a bytestring as `filenames`. This will not work on Python 3. Use `cp.read_file()` or switch to using Unicode strings across the board.\n",
      "  import sys\n"
     ]
    }
   ],
   "source": [
    "from configparser import ConfigParser\n",
    "\n",
    "\n",
    "def config(filename='database.ini', section='postgresql'):\n",
    "    \n",
    "    parser = ConfigParser()\n",
    "    parser.read(filename)\n",
    " \n",
    "    db = {}\n",
    "    if parser.has_section(section):\n",
    "        params = parser.items(section)\n",
    "        for param in params:\n",
    "            db[param[0]] = param[1]\n",
    "    else:\n",
    "        raise Exception('Section {0} not found in the {1} file'.format(section, filename))\n",
    " \n",
    "    return db\n",
    "\n",
    "\n",
    "def connect():\n",
    "    \"\"\" Connect to the PostgreSQL database server \"\"\"\n",
    "    conn = None\n",
    "    \n",
    "    try:\n",
    "        params = config()\n",
    " \n",
    "        print('Connecting to the PostgreSQL database...')\n",
    "        conn = psycopg2.connect(**params)\n",
    " \n",
    "        cur = conn.cursor()\n",
    "        cur.execute(\"select timestamp_ais from ais_messages.spire_ais where timestamp_ais between '2017-01-02 03:45:29' and '2017-06-07 01:12:49'limit 5\")\n",
    "        rows = cur.fetchall()\n",
    "        spire_ais = pd.DataFrame(rows)\n",
    "        return spire_ais\n",
    "\n",
    "        cur.close()\n",
    "    except (Exception, psycopg2.DatabaseError) as error:\n",
    "        print(error)\n",
    "    finally:\n",
    "        if conn is not None:\n",
    "            conn.close()\n",
    "            print('Database connection closed.')\n",
    " \n",
    " \n",
    "if __name__ == '__main__':\n",
    "    connect()"
   ]
  },
  {
   "cell_type": "code",
   "execution_count": 22,
   "metadata": {},
   "outputs": [
    {
     "name": "stdout",
     "output_type": "stream",
     "text": [
      "Connecting to the PostgreSQL database...\n",
      "Database connection closed.\n"
     ]
    },
    {
     "name": "stderr",
     "output_type": "stream",
     "text": [
      "/opt/anaconda/lib/python2.7/site-packages/ipykernel_launcher.py:7: DeprecationWarning: You passed a bytestring as `filenames`. This will not work on Python 3. Use `cp.read_file()` or switch to using Unicode strings across the board.\n",
      "  import sys\n"
     ]
    },
    {
     "ename": "ValueError",
     "evalue": "Length mismatch: Expected axis has 1 elements, new values have 13 elements",
     "output_type": "error",
     "traceback": [
      "\u001b[0;31m---------------------------------------------------------------------------\u001b[0m",
      "\u001b[0;31mValueError\u001b[0m                                Traceback (most recent call last)",
      "\u001b[0;32m<ipython-input-22-dd71d90b9eba>\u001b[0m in \u001b[0;36m<module>\u001b[0;34m()\u001b[0m\n\u001b[1;32m      1\u001b[0m \u001b[0mspire_ais\u001b[0m \u001b[0;34m=\u001b[0m \u001b[0mconnect\u001b[0m\u001b[0;34m(\u001b[0m\u001b[0;34m)\u001b[0m\u001b[0;34m\u001b[0m\u001b[0m\n\u001b[1;32m      2\u001b[0m spire_ais.columns = ['msg_type', 'mmsi','timestamp', 'nmea', 'status', 'rot', 'speed', \n\u001b[0;32m----> 3\u001b[0;31m                      'accuracy', 'longitude', 'latitude', 'course', 'heading', 'manever']\n\u001b[0m\u001b[1;32m      4\u001b[0m \u001b[0;34m\u001b[0m\u001b[0m\n\u001b[1;32m      5\u001b[0m \u001b[0;32mprint\u001b[0m \u001b[0mspire_ais\u001b[0m\u001b[0;34m\u001b[0m\u001b[0m\n",
      "\u001b[0;32m/opt/anaconda/lib/python2.7/site-packages/pandas/core/generic.pyc\u001b[0m in \u001b[0;36m__setattr__\u001b[0;34m(self, name, value)\u001b[0m\n\u001b[1;32m   2981\u001b[0m         \u001b[0;32mtry\u001b[0m\u001b[0;34m:\u001b[0m\u001b[0;34m\u001b[0m\u001b[0m\n\u001b[1;32m   2982\u001b[0m             \u001b[0mobject\u001b[0m\u001b[0;34m.\u001b[0m\u001b[0m__getattribute__\u001b[0m\u001b[0;34m(\u001b[0m\u001b[0mself\u001b[0m\u001b[0;34m,\u001b[0m \u001b[0mname\u001b[0m\u001b[0;34m)\u001b[0m\u001b[0;34m\u001b[0m\u001b[0m\n\u001b[0;32m-> 2983\u001b[0;31m             \u001b[0;32mreturn\u001b[0m \u001b[0mobject\u001b[0m\u001b[0;34m.\u001b[0m\u001b[0m__setattr__\u001b[0m\u001b[0;34m(\u001b[0m\u001b[0mself\u001b[0m\u001b[0;34m,\u001b[0m \u001b[0mname\u001b[0m\u001b[0;34m,\u001b[0m \u001b[0mvalue\u001b[0m\u001b[0;34m)\u001b[0m\u001b[0;34m\u001b[0m\u001b[0m\n\u001b[0m\u001b[1;32m   2984\u001b[0m         \u001b[0;32mexcept\u001b[0m \u001b[0mAttributeError\u001b[0m\u001b[0;34m:\u001b[0m\u001b[0;34m\u001b[0m\u001b[0m\n\u001b[1;32m   2985\u001b[0m             \u001b[0;32mpass\u001b[0m\u001b[0;34m\u001b[0m\u001b[0m\n",
      "\u001b[0;32mpandas/_libs/src/properties.pyx\u001b[0m in \u001b[0;36mpandas._libs.lib.AxisProperty.__set__ (pandas/_libs/lib.c:45103)\u001b[0;34m()\u001b[0m\n",
      "\u001b[0;32m/opt/anaconda/lib/python2.7/site-packages/pandas/core/generic.pyc\u001b[0m in \u001b[0;36m_set_axis\u001b[0;34m(self, axis, labels)\u001b[0m\n\u001b[1;32m    469\u001b[0m \u001b[0;34m\u001b[0m\u001b[0m\n\u001b[1;32m    470\u001b[0m     \u001b[0;32mdef\u001b[0m \u001b[0m_set_axis\u001b[0m\u001b[0;34m(\u001b[0m\u001b[0mself\u001b[0m\u001b[0;34m,\u001b[0m \u001b[0maxis\u001b[0m\u001b[0;34m,\u001b[0m \u001b[0mlabels\u001b[0m\u001b[0;34m)\u001b[0m\u001b[0;34m:\u001b[0m\u001b[0;34m\u001b[0m\u001b[0m\n\u001b[0;32m--> 471\u001b[0;31m         \u001b[0mself\u001b[0m\u001b[0;34m.\u001b[0m\u001b[0m_data\u001b[0m\u001b[0;34m.\u001b[0m\u001b[0mset_axis\u001b[0m\u001b[0;34m(\u001b[0m\u001b[0maxis\u001b[0m\u001b[0;34m,\u001b[0m \u001b[0mlabels\u001b[0m\u001b[0;34m)\u001b[0m\u001b[0;34m\u001b[0m\u001b[0m\n\u001b[0m\u001b[1;32m    472\u001b[0m         \u001b[0mself\u001b[0m\u001b[0;34m.\u001b[0m\u001b[0m_clear_item_cache\u001b[0m\u001b[0;34m(\u001b[0m\u001b[0;34m)\u001b[0m\u001b[0;34m\u001b[0m\u001b[0m\n\u001b[1;32m    473\u001b[0m \u001b[0;34m\u001b[0m\u001b[0m\n",
      "\u001b[0;32m/opt/anaconda/lib/python2.7/site-packages/pandas/core/internals.pyc\u001b[0m in \u001b[0;36mset_axis\u001b[0;34m(self, axis, new_labels)\u001b[0m\n\u001b[1;32m   2834\u001b[0m             raise ValueError('Length mismatch: Expected axis has %d elements, '\n\u001b[1;32m   2835\u001b[0m                              \u001b[0;34m'new values have %d elements'\u001b[0m \u001b[0;34m%\u001b[0m\u001b[0;34m\u001b[0m\u001b[0m\n\u001b[0;32m-> 2836\u001b[0;31m                              (old_len, new_len))\n\u001b[0m\u001b[1;32m   2837\u001b[0m \u001b[0;34m\u001b[0m\u001b[0m\n\u001b[1;32m   2838\u001b[0m         \u001b[0mself\u001b[0m\u001b[0;34m.\u001b[0m\u001b[0maxes\u001b[0m\u001b[0;34m[\u001b[0m\u001b[0maxis\u001b[0m\u001b[0;34m]\u001b[0m \u001b[0;34m=\u001b[0m \u001b[0mnew_labels\u001b[0m\u001b[0;34m\u001b[0m\u001b[0m\n",
      "\u001b[0;31mValueError\u001b[0m: Length mismatch: Expected axis has 1 elements, new values have 13 elements"
     ]
    }
   ],
   "source": [
    "spire_ais = connect()\n",
    "spire_ais.columns = ['msg_type', 'mmsi','timestamp', 'nmea', 'status', 'rot', 'speed', \n",
    "                     'accuracy', 'longitude', 'latitude', 'course', 'heading', 'manever']\n",
    "\n",
    "print spire_ais\n",
    "intersection = pd.merge(spire_ais, images, how='inner', on=['timestamp'])\n",
    "#print intersection"
   ]
  },
  {
   "cell_type": "code",
   "execution_count": null,
   "metadata": {
    "collapsed": true
   },
   "outputs": [],
   "source": []
  },
  {
   "cell_type": "code",
   "execution_count": null,
   "metadata": {
    "collapsed": true
   },
   "outputs": [],
   "source": []
  }
 ],
 "metadata": {
  "kernelspec": {
   "display_name": "Python 2",
   "language": "python",
   "name": "python2"
  },
  "language_info": {
   "codemirror_mode": {
    "name": "ipython",
    "version": 2
   },
   "file_extension": ".py",
   "mimetype": "text/x-python",
   "name": "python",
   "nbconvert_exporter": "python",
   "pygments_lexer": "ipython2",
   "version": "2.7.13"
  }
 },
 "nbformat": 4,
 "nbformat_minor": 2
}
