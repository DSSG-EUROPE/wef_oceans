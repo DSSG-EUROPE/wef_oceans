{
 "cells": [
  {
   "cell_type": "markdown",
   "metadata": {},
   "source": [
    "# Intersection AIS with vessel lists"
   ]
  },
  {
   "cell_type": "markdown",
   "metadata": {},
   "source": [
    "Intersection of SPIRE AIS data with lists of IUU vessels and the proactive vessel registry. IUU lists come from multiple sources most comprehensively the combined_iuu_list. In addition MMSI spoofing indicator from GFW is used. Legitimate vessels are acquired from the pro-active vessel registry.\n",
    "\n",
    "Description of MMSI spoofing from GFW:\n",
    "\n",
    "<em>List of MMSIs that experience substantial ID spoofing\n",
    "\n",
    "By ID spoofing, we mean two or more vessels that are using the same MMSI at the same time. \n",
    "\n",
    "All the messages for an MMSI are grouped into sets of tracks that are contiguous spatially and temporally.  \n",
    "Each continuous track has a unique seg_id field added.  Some tracks contain invalid lan/lon (like 91, 181) and \n",
    "are put into a special 'BAD' segment. \n",
    "\n",
    "The test for spoofing is fairly naive - we simple compute the extent of each segment in time, add them all up, \n",
    "and compare that to the extent of time that the vessel is active.  If the segment time is longer than the \n",
    "active time, then we know that some of the segments must overlap, and this is the indication of ID spoofing.\n",
    "</em>"
   ]
  },
  {
   "cell_type": "code",
   "execution_count": 1,
   "metadata": {
    "collapsed": true
   },
   "outputs": [],
   "source": [
    "import pandas as pd\n",
    "import ais_query"
   ]
  },
  {
   "cell_type": "code",
   "execution_count": 2,
   "metadata": {
    "collapsed": true
   },
   "outputs": [],
   "source": [
    "vessel_lists = pd.read_csv('iuu_list_of_lists.csv')"
   ]
  },
  {
   "cell_type": "code",
   "execution_count": 3,
   "metadata": {
    "collapsed": true
   },
   "outputs": [],
   "source": [
    "cols_position = ais_query.columns_position\n",
    "cols_static = ais_query.columns_static"
   ]
  },
  {
   "cell_type": "code",
   "execution_count": 4,
   "metadata": {},
   "outputs": [
    {
     "data": {
      "text/plain": [
       "gfw_spoofing         3385\n",
       "pvr_purse_seiner      571\n",
       "combined_iuu_list     120\n",
       "pvr_longline           45\n",
       "pvr_other              35\n",
       "IATTC                   4\n",
       "ICCAT                   3\n",
       "Name: list_source, dtype: int64"
      ]
     },
     "execution_count": 4,
     "metadata": {},
     "output_type": "execute_result"
    }
   ],
   "source": [
    "vessel_lists.list_source.value_counts()"
   ]
  },
  {
   "cell_type": "code",
   "execution_count": 5,
   "metadata": {
    "collapsed": true
   },
   "outputs": [],
   "source": [
    "sql_statement = \"\"\"\n",
    "SELECT imo, mmsi, name, ship_and_cargo_type, length, width, eta_date, destination\n",
    "FROM ais_messages.full_year_static;\n",
    "\"\"\"\n",
    "ais_static = ais_query.connect(sql_statement)\n",
    "ais_static.columns = ['imo', 'mmsi', 'name', 'ship_and_cargo_type', 'length', 'width', 'eta_date', 'destination']"
   ]
  },
  {
   "cell_type": "code",
   "execution_count": 6,
   "metadata": {
    "collapsed": true
   },
   "outputs": [],
   "source": [
    "iuu_vessel_list = vessel_lists[vessel_lists.IUU=='yes']\n",
    "legitimate_vessel_list = vessel_lists[vessel_lists.IUU=='no']"
   ]
  },
  {
   "cell_type": "code",
   "execution_count": 7,
   "metadata": {
    "collapsed": true
   },
   "outputs": [],
   "source": [
    "iuu_imo_filter = iuu_vessel_list[iuu_vessel_list.id_type=='IMO']\n",
    "iuu_mmsi_filter = iuu_vessel_list[iuu_vessel_list.id_type=='mmsi']\n",
    "legitimate_imo_filter = legitimate_vessel_list[legitimate_vessel_list.id_type=='IMO']\n",
    "legitimate_mmsi_filter = legitimate_vessel_list[legitimate_vessel_list.id_type=='mmsi']"
   ]
  },
  {
   "cell_type": "markdown",
   "metadata": {},
   "source": [
    "## iuu vessels intersection "
   ]
  },
  {
   "cell_type": "code",
   "execution_count": 8,
   "metadata": {},
   "outputs": [
    {
     "name": "stdout",
     "output_type": "stream",
     "text": [
      "('unique_imo = ', 23)\n"
     ]
    },
    {
     "data": {
      "text/html": [
       "<div>\n",
       "<style>\n",
       "    .dataframe thead tr:only-child th {\n",
       "        text-align: right;\n",
       "    }\n",
       "\n",
       "    .dataframe thead th {\n",
       "        text-align: left;\n",
       "    }\n",
       "\n",
       "    .dataframe tbody tr th {\n",
       "        vertical-align: top;\n",
       "    }\n",
       "</style>\n",
       "<table border=\"1\" class=\"dataframe\">\n",
       "  <thead>\n",
       "    <tr style=\"text-align: right;\">\n",
       "      <th></th>\n",
       "      <th>imo</th>\n",
       "      <th>mmsi</th>\n",
       "      <th>name</th>\n",
       "      <th>ship_and_cargo_type</th>\n",
       "      <th>length</th>\n",
       "      <th>width</th>\n",
       "      <th>eta_date</th>\n",
       "      <th>destination</th>\n",
       "      <th>IUU</th>\n",
       "      <th>id</th>\n",
       "      <th>id_type</th>\n",
       "      <th>list_source</th>\n",
       "    </tr>\n",
       "  </thead>\n",
       "  <tbody>\n",
       "    <tr>\n",
       "      <th>0</th>\n",
       "      <td>9.00142e+06</td>\n",
       "      <td>440645000</td>\n",
       "      <td>TONINA 5</td>\n",
       "      <td>30.0</td>\n",
       "      <td>56.0</td>\n",
       "      <td>9.0</td>\n",
       "      <td>2016-09-16 07:40:00 UTC</td>\n",
       "      <td>BUSAN KOREA</td>\n",
       "      <td>yes</td>\n",
       "      <td>9001423</td>\n",
       "      <td>IMO</td>\n",
       "      <td>combined_iuu_list</td>\n",
       "    </tr>\n",
       "    <tr>\n",
       "      <th>48</th>\n",
       "      <td>9.00142e+06</td>\n",
       "      <td>440645000</td>\n",
       "      <td>TONINA 5</td>\n",
       "      <td>30.0</td>\n",
       "      <td>56.0</td>\n",
       "      <td>9.0</td>\n",
       "      <td>2017-09-16 07:40:00 UTC</td>\n",
       "      <td>BUSAN KOREA</td>\n",
       "      <td>yes</td>\n",
       "      <td>9001423</td>\n",
       "      <td>IMO</td>\n",
       "      <td>combined_iuu_list</td>\n",
       "    </tr>\n",
       "    <tr>\n",
       "      <th>121</th>\n",
       "      <td>9.00142e+06</td>\n",
       "      <td>306427272</td>\n",
       "      <td>TONMNA</td>\n",
       "      <td>30.0</td>\n",
       "      <td>214.0</td>\n",
       "      <td>9.0</td>\n",
       "      <td>2017-09-16 05:32:00 UTC</td>\n",
       "      <td>BUSAO KOREP</td>\n",
       "      <td>yes</td>\n",
       "      <td>9001423</td>\n",
       "      <td>IMO</td>\n",
       "      <td>combined_iuu_list</td>\n",
       "    </tr>\n",
       "    <tr>\n",
       "      <th>137</th>\n",
       "      <td>9.00142e+06</td>\n",
       "      <td>440643720</td>\n",
       "      <td>TONINA05   $</td>\n",
       "      <td>30.0</td>\n",
       "      <td>56.0</td>\n",
       "      <td>9.0</td>\n",
       "      <td>2017-09-16 07:40:00 UTC</td>\n",
       "      <td>BWQ)N KOREA</td>\n",
       "      <td>yes</td>\n",
       "      <td>9001423</td>\n",
       "      <td>IMO</td>\n",
       "      <td>combined_iuu_list</td>\n",
       "    </tr>\n",
       "    <tr>\n",
       "      <th>220</th>\n",
       "      <td>9.00142e+06</td>\n",
       "      <td>440646024</td>\n",
       "      <td>TONINA 5</td>\n",
       "      <td>30.0</td>\n",
       "      <td>56.0</td>\n",
       "      <td>9.0</td>\n",
       "      <td>2017-09-16 07:40:00 UTC</td>\n",
       "      <td>\"USAN KORAA</td>\n",
       "      <td>yes</td>\n",
       "      <td>9001423</td>\n",
       "      <td>IMO</td>\n",
       "      <td>combined_iuu_list</td>\n",
       "    </tr>\n",
       "  </tbody>\n",
       "</table>\n",
       "</div>"
      ],
      "text/plain": [
       "             imo       mmsi          name  ship_and_cargo_type  length  width  \\\n",
       "0    9.00142e+06  440645000      TONINA 5                 30.0    56.0    9.0   \n",
       "48   9.00142e+06  440645000      TONINA 5                 30.0    56.0    9.0   \n",
       "121  9.00142e+06  306427272        TONMNA                 30.0   214.0    9.0   \n",
       "137  9.00142e+06  440643720  TONINA05   $                 30.0    56.0    9.0   \n",
       "220  9.00142e+06  440646024      TONINA 5                 30.0    56.0    9.0   \n",
       "\n",
       "                    eta_date  destination  IUU       id id_type  \\\n",
       "0    2016-09-16 07:40:00 UTC  BUSAN KOREA  yes  9001423     IMO   \n",
       "48   2017-09-16 07:40:00 UTC  BUSAN KOREA  yes  9001423     IMO   \n",
       "121  2017-09-16 05:32:00 UTC  BUSAO KOREP  yes  9001423     IMO   \n",
       "137  2017-09-16 07:40:00 UTC  BWQ)N KOREA  yes  9001423     IMO   \n",
       "220  2017-09-16 07:40:00 UTC  \"USAN KORAA  yes  9001423     IMO   \n",
       "\n",
       "           list_source  \n",
       "0    combined_iuu_list  \n",
       "48   combined_iuu_list  \n",
       "121  combined_iuu_list  \n",
       "137  combined_iuu_list  \n",
       "220  combined_iuu_list  "
      ]
     },
     "execution_count": 8,
     "metadata": {},
     "output_type": "execute_result"
    }
   ],
   "source": [
    "print(\"unique_imo = \", len(pd.merge(ais_static, iuu_imo_filter, how='inner', left_on=['imo'], right_on=['id']).drop_duplicates().mmsi.unique()))\n",
    "pd.merge(ais_static, iuu_imo_filter, how='inner', left_on=['imo'], right_on=['id']).drop_duplicates().head()"
   ]
  },
  {
   "cell_type": "markdown",
   "metadata": {},
   "source": [
    "## iuu vessels with mmsi spoofing detected by GFW"
   ]
  },
  {
   "cell_type": "code",
   "execution_count": 9,
   "metadata": {},
   "outputs": [
    {
     "name": "stdout",
     "output_type": "stream",
     "text": [
      "('unique_mmsi = ', 1139)\n"
     ]
    },
    {
     "data": {
      "text/html": [
       "<div>\n",
       "<style>\n",
       "    .dataframe thead tr:only-child th {\n",
       "        text-align: right;\n",
       "    }\n",
       "\n",
       "    .dataframe thead th {\n",
       "        text-align: left;\n",
       "    }\n",
       "\n",
       "    .dataframe tbody tr th {\n",
       "        vertical-align: top;\n",
       "    }\n",
       "</style>\n",
       "<table border=\"1\" class=\"dataframe\">\n",
       "  <thead>\n",
       "    <tr style=\"text-align: right;\">\n",
       "      <th></th>\n",
       "      <th>imo</th>\n",
       "      <th>mmsi</th>\n",
       "      <th>name</th>\n",
       "      <th>ship_and_cargo_type</th>\n",
       "      <th>length</th>\n",
       "      <th>width</th>\n",
       "      <th>eta_date</th>\n",
       "      <th>destination</th>\n",
       "      <th>IUU</th>\n",
       "      <th>id</th>\n",
       "      <th>id_type</th>\n",
       "      <th>list_source</th>\n",
       "    </tr>\n",
       "  </thead>\n",
       "  <tbody>\n",
       "    <tr>\n",
       "      <th>0</th>\n",
       "      <td>9148439.0</td>\n",
       "      <td>503000370</td>\n",
       "      <td>EBENEZER</td>\n",
       "      <td>70.0</td>\n",
       "      <td>42.0</td>\n",
       "      <td>8.0</td>\n",
       "      <td>2016-09-10 08:00:00 UTC</td>\n",
       "      <td>KETTERING</td>\n",
       "      <td>yes</td>\n",
       "      <td>503000370</td>\n",
       "      <td>mmsi</td>\n",
       "      <td>gfw_spoofing</td>\n",
       "    </tr>\n",
       "    <tr>\n",
       "      <th>175</th>\n",
       "      <td>9148439.0</td>\n",
       "      <td>503000370</td>\n",
       "      <td>EBENEZER</td>\n",
       "      <td>70.0</td>\n",
       "      <td>42.0</td>\n",
       "      <td>8.0</td>\n",
       "      <td>2017-09-10 08:00:00 UTC</td>\n",
       "      <td>KETTERING</td>\n",
       "      <td>yes</td>\n",
       "      <td>503000370</td>\n",
       "      <td>mmsi</td>\n",
       "      <td>gfw_spoofing</td>\n",
       "    </tr>\n",
       "    <tr>\n",
       "      <th>178</th>\n",
       "      <td>NaN</td>\n",
       "      <td>503000370</td>\n",
       "      <td>None</td>\n",
       "      <td>NaN</td>\n",
       "      <td>NaN</td>\n",
       "      <td>NaN</td>\n",
       "      <td>None</td>\n",
       "      <td>None</td>\n",
       "      <td>yes</td>\n",
       "      <td>503000370</td>\n",
       "      <td>mmsi</td>\n",
       "      <td>gfw_spoofing</td>\n",
       "    </tr>\n",
       "    <tr>\n",
       "      <th>310</th>\n",
       "      <td>9148439.0</td>\n",
       "      <td>503000370</td>\n",
       "      <td>EBENEZER</td>\n",
       "      <td>70.0</td>\n",
       "      <td>10.0</td>\n",
       "      <td>36.0</td>\n",
       "      <td>2017-08-06 08:00:00 UTC</td>\n",
       "      <td>KO</td>\n",
       "      <td>yes</td>\n",
       "      <td>503000370</td>\n",
       "      <td>mmsi</td>\n",
       "      <td>gfw_spoofing</td>\n",
       "    </tr>\n",
       "    <tr>\n",
       "      <th>327</th>\n",
       "      <td>9148439.0</td>\n",
       "      <td>503000370</td>\n",
       "      <td>EBENEZER  $</td>\n",
       "      <td>70.0</td>\n",
       "      <td>42.0</td>\n",
       "      <td>8.0</td>\n",
       "      <td>2017-09-10 08:00:00 UTC</td>\n",
       "      <td>KEDTERING</td>\n",
       "      <td>yes</td>\n",
       "      <td>503000370</td>\n",
       "      <td>mmsi</td>\n",
       "      <td>gfw_spoofing</td>\n",
       "    </tr>\n",
       "  </tbody>\n",
       "</table>\n",
       "</div>"
      ],
      "text/plain": [
       "           imo       mmsi         name  ship_and_cargo_type  length  width  \\\n",
       "0    9148439.0  503000370     EBENEZER                 70.0    42.0    8.0   \n",
       "175  9148439.0  503000370     EBENEZER                 70.0    42.0    8.0   \n",
       "178        NaN  503000370         None                  NaN     NaN    NaN   \n",
       "310  9148439.0  503000370     EBENEZER                 70.0    10.0   36.0   \n",
       "327  9148439.0  503000370  EBENEZER  $                 70.0    42.0    8.0   \n",
       "\n",
       "                    eta_date destination  IUU         id id_type   list_source  \n",
       "0    2016-09-10 08:00:00 UTC   KETTERING  yes  503000370    mmsi  gfw_spoofing  \n",
       "175  2017-09-10 08:00:00 UTC   KETTERING  yes  503000370    mmsi  gfw_spoofing  \n",
       "178                     None        None  yes  503000370    mmsi  gfw_spoofing  \n",
       "310  2017-08-06 08:00:00 UTC          KO  yes  503000370    mmsi  gfw_spoofing  \n",
       "327  2017-09-10 08:00:00 UTC   KEDTERING  yes  503000370    mmsi  gfw_spoofing  "
      ]
     },
     "execution_count": 9,
     "metadata": {},
     "output_type": "execute_result"
    }
   ],
   "source": [
    "print(\"unique_mmsi = \", len(pd.merge(ais_static, iuu_mmsi_filter, how='inner', left_on=['mmsi'], right_on=['id']).drop_duplicates().mmsi.unique()))\n",
    "pd.merge(ais_static, iuu_mmsi_filter, how='inner', left_on=['mmsi'], right_on=['id']).drop_duplicates().head()"
   ]
  },
  {
   "cell_type": "markdown",
   "metadata": {},
   "source": [
    "## legitimate vessels"
   ]
  },
  {
   "cell_type": "code",
   "execution_count": 11,
   "metadata": {},
   "outputs": [
    {
     "name": "stdout",
     "output_type": "stream",
     "text": [
      "('unique_imo = ', 395)\n"
     ]
    },
    {
     "data": {
      "text/html": [
       "<div>\n",
       "<style>\n",
       "    .dataframe thead tr:only-child th {\n",
       "        text-align: right;\n",
       "    }\n",
       "\n",
       "    .dataframe thead th {\n",
       "        text-align: left;\n",
       "    }\n",
       "\n",
       "    .dataframe tbody tr th {\n",
       "        vertical-align: top;\n",
       "    }\n",
       "</style>\n",
       "<table border=\"1\" class=\"dataframe\">\n",
       "  <thead>\n",
       "    <tr style=\"text-align: right;\">\n",
       "      <th></th>\n",
       "      <th>imo</th>\n",
       "      <th>mmsi</th>\n",
       "      <th>name</th>\n",
       "      <th>ship_and_cargo_type</th>\n",
       "      <th>length</th>\n",
       "      <th>width</th>\n",
       "      <th>eta_date</th>\n",
       "      <th>destination</th>\n",
       "      <th>IUU</th>\n",
       "      <th>id</th>\n",
       "      <th>id_type</th>\n",
       "      <th>list_source</th>\n",
       "    </tr>\n",
       "  </thead>\n",
       "  <tbody>\n",
       "    <tr>\n",
       "      <th>0</th>\n",
       "      <td>8.80696e+06</td>\n",
       "      <td>224531000</td>\n",
       "      <td>PLAYA DE NOJA</td>\n",
       "      <td>30.0</td>\n",
       "      <td>76.0</td>\n",
       "      <td>14.0</td>\n",
       "      <td>None</td>\n",
       "      <td>None</td>\n",
       "      <td>no</td>\n",
       "      <td>8806955</td>\n",
       "      <td>IMO</td>\n",
       "      <td>pvr_purse_seiner</td>\n",
       "    </tr>\n",
       "    <tr>\n",
       "      <th>21</th>\n",
       "      <td>8.80696e+06</td>\n",
       "      <td>224531000</td>\n",
       "      <td>PLAYA DE NOJA</td>\n",
       "      <td>30.0</td>\n",
       "      <td>76.0</td>\n",
       "      <td>14.0</td>\n",
       "      <td>None</td>\n",
       "      <td></td>\n",
       "      <td>no</td>\n",
       "      <td>8806955</td>\n",
       "      <td>IMO</td>\n",
       "      <td>pvr_purse_seiner</td>\n",
       "    </tr>\n",
       "    <tr>\n",
       "      <th>82</th>\n",
       "      <td>8.99628e+06</td>\n",
       "      <td>412439607</td>\n",
       "      <td>XIANG FA 8</td>\n",
       "      <td>90.0</td>\n",
       "      <td>72.0</td>\n",
       "      <td>12.0</td>\n",
       "      <td>None</td>\n",
       "      <td>None</td>\n",
       "      <td>no</td>\n",
       "      <td>8996279</td>\n",
       "      <td>IMO</td>\n",
       "      <td>pvr_purse_seiner</td>\n",
       "    </tr>\n",
       "    <tr>\n",
       "      <th>141</th>\n",
       "      <td>8.99628e+06</td>\n",
       "      <td>412439607</td>\n",
       "      <td>XIANG FA 8</td>\n",
       "      <td>90.0</td>\n",
       "      <td>72.0</td>\n",
       "      <td>12.0</td>\n",
       "      <td>None</td>\n",
       "      <td></td>\n",
       "      <td>no</td>\n",
       "      <td>8996279</td>\n",
       "      <td>IMO</td>\n",
       "      <td>pvr_purse_seiner</td>\n",
       "    </tr>\n",
       "    <tr>\n",
       "      <th>209</th>\n",
       "      <td>8.99628e+06</td>\n",
       "      <td>412431415</td>\n",
       "      <td>XI</td>\n",
       "      <td>90.0</td>\n",
       "      <td>72.0</td>\n",
       "      <td>12.0</td>\n",
       "      <td>None</td>\n",
       "      <td></td>\n",
       "      <td>no</td>\n",
       "      <td>8996279</td>\n",
       "      <td>IMO</td>\n",
       "      <td>pvr_purse_seiner</td>\n",
       "    </tr>\n",
       "  </tbody>\n",
       "</table>\n",
       "</div>"
      ],
      "text/plain": [
       "             imo       mmsi           name  ship_and_cargo_type  length  \\\n",
       "0    8.80696e+06  224531000  PLAYA DE NOJA                 30.0    76.0   \n",
       "21   8.80696e+06  224531000  PLAYA DE NOJA                 30.0    76.0   \n",
       "82   8.99628e+06  412439607     XIANG FA 8                 90.0    72.0   \n",
       "141  8.99628e+06  412439607     XIANG FA 8                 90.0    72.0   \n",
       "209  8.99628e+06  412431415             XI                 90.0    72.0   \n",
       "\n",
       "     width eta_date destination IUU       id id_type       list_source  \n",
       "0     14.0     None        None  no  8806955     IMO  pvr_purse_seiner  \n",
       "21    14.0     None              no  8806955     IMO  pvr_purse_seiner  \n",
       "82    12.0     None        None  no  8996279     IMO  pvr_purse_seiner  \n",
       "141   12.0     None              no  8996279     IMO  pvr_purse_seiner  \n",
       "209   12.0     None              no  8996279     IMO  pvr_purse_seiner  "
      ]
     },
     "execution_count": 11,
     "metadata": {},
     "output_type": "execute_result"
    }
   ],
   "source": [
    "print(\"unique_imo = \",len(pd.merge(ais_static, legitimate_imo_filter, how='inner', left_on=['imo'], right_on=['id']).drop_duplicates().mmsi.unique()))\n",
    "pd.merge(ais_static, legitimate_imo_filter, how='inner', left_on=['imo'], right_on=['id']).drop_duplicates().head()"
   ]
  },
  {
   "cell_type": "code",
   "execution_count": 12,
   "metadata": {},
   "outputs": [
    {
     "name": "stdout",
     "output_type": "stream",
     "text": [
      "('unique_mmsi = ', 0)\n"
     ]
    },
    {
     "data": {
      "text/html": [
       "<div>\n",
       "<style>\n",
       "    .dataframe thead tr:only-child th {\n",
       "        text-align: right;\n",
       "    }\n",
       "\n",
       "    .dataframe thead th {\n",
       "        text-align: left;\n",
       "    }\n",
       "\n",
       "    .dataframe tbody tr th {\n",
       "        vertical-align: top;\n",
       "    }\n",
       "</style>\n",
       "<table border=\"1\" class=\"dataframe\">\n",
       "  <thead>\n",
       "    <tr style=\"text-align: right;\">\n",
       "      <th></th>\n",
       "      <th>imo</th>\n",
       "      <th>mmsi</th>\n",
       "      <th>name</th>\n",
       "      <th>ship_and_cargo_type</th>\n",
       "      <th>length</th>\n",
       "      <th>width</th>\n",
       "      <th>eta_date</th>\n",
       "      <th>destination</th>\n",
       "      <th>IUU</th>\n",
       "      <th>id</th>\n",
       "      <th>id_type</th>\n",
       "      <th>list_source</th>\n",
       "    </tr>\n",
       "  </thead>\n",
       "  <tbody>\n",
       "  </tbody>\n",
       "</table>\n",
       "</div>"
      ],
      "text/plain": [
       "Empty DataFrame\n",
       "Columns: [imo, mmsi, name, ship_and_cargo_type, length, width, eta_date, destination, IUU, id, id_type, list_source]\n",
       "Index: []"
      ]
     },
     "execution_count": 12,
     "metadata": {},
     "output_type": "execute_result"
    }
   ],
   "source": [
    "print(\"unique_mmsi = \",len(pd.merge(ais_static, legitimate_mmsi_filter, how='inner', left_on=['mmsi'], right_on=['id']).drop_duplicates().mmsi.unique()))\n",
    "pd.merge(ais_static, legitimate_mmsi_filter, how='inner', left_on=['mmsi'], right_on=['id']).drop_duplicates().head()"
   ]
  }
 ],
 "metadata": {
  "kernelspec": {
   "display_name": "Python 2",
   "language": "python",
   "name": "python2"
  },
  "language_info": {
   "codemirror_mode": {
    "name": "ipython",
    "version": 2
   },
   "file_extension": ".py",
   "mimetype": "text/x-python",
   "name": "python",
   "nbconvert_exporter": "python",
   "pygments_lexer": "ipython2",
   "version": "2.7.13"
  }
 },
 "nbformat": 4,
 "nbformat_minor": 2
}
