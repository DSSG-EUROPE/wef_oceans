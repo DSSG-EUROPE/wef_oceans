{
 "cells": [
  {
   "cell_type": "markdown",
   "metadata": {},
   "source": [
    "# Satelite imagery in the Torres Strait (Digital Globe)\n",
    "\n",
    "This document shows the high-resolution DigitalGlobe imagery of the Torres Strait for 2016 and 2017. Two outcomes come from this document. First, it shows how spatialy distributed are the images over the selected zone. Second, it create a visualization tool to capture the more frequent days of collection. For both years recolectation rates are low and not cover the total extension of the Torres Strait area. \n"
   ]
  },
  {
   "cell_type": "markdown",
   "metadata": {},
   "source": [
    "<h1><center>Torres Strait (May 2016 - Jun 2017)</center></h1>"
   ]
  },
  {
   "cell_type": "code",
   "execution_count": 2,
   "metadata": {
    "collapsed": true
   },
   "outputs": [],
   "source": [
    "import gbdxtools\n",
    "import numpy as np\n",
    "#import geopandas as gpd\n",
    "from matplotlib import pyplot as plt\n",
    "import shapely as sp\n",
    "from shapely.geometry.polygon import LinearRing, Polygon\n",
    "from shapely.geometry import mapping, shape\n",
    "from gbdx_auth import gbdx_auth\n",
    "import geojson, json\n",
    "from pprint import pprint\n",
    "import pandas as pd\n",
    "import urllib.request\n",
    "%matplotlib inline\n",
    "\n",
    "#Open a session using the Authentication files (~/.gbdx-config)\n",
    "gbdx = gbdx_auth.get_session()\n",
    "gbdx = gbdxtools.Interface()"
   ]
  },
  {
   "cell_type": "code",
   "execution_count": 3,
   "metadata": {
    "scrolled": false
   },
   "outputs": [],
   "source": [
    "from pprint import pprint\n",
    "import json\n",
    "#Create a area to search and retrieve information\n",
    "torres_strait = \"POLYGON((139.0 -9.0, 145.0 -9.0, 145 -12, 139 -12, 139 -9.0))\"\n",
    "world = \"POLYGON((-180 -90, -180 90, 180 90, 180 -90, -180 -90))\"\n",
    "filters = [\"cloudCover < 30\"]\n",
    "types = ['DigitalGlobeAcquisition']\n",
    "\n",
    "\n",
    "\n",
    "#Divide results to get the total and avoid the API limit (1000 imgs)\n",
    "results_query = []\n",
    "\n",
    "results_query.extend(gbdx.catalog.search(searchAreaWkt= torres_strait,\n",
    "                                         startDate=\"2016-05-01T00:00:00.000Z\",\n",
    "                                         endDate=\"2016-12-31T00:00:00.000Z\",\n",
    "                                         #filters=filters,\n",
    "                                         types = types))\n",
    "                     \n",
    "                     \n",
    "results_query.extend(gbdx.catalog.search(searchAreaWkt= torres_strait,\n",
    "                                         startDate=\"2017-01-01T00:00:00.000Z\",\n",
    "                                         endDate=\"2017-06-30T00:00:00.000Z\",\n",
    "                                         #filters=filters,\n",
    "                                         types = types))\n",
    "\n",
    "            \n",
    "    "
   ]
  },
  {
   "cell_type": "code",
   "execution_count": 4,
   "metadata": {},
   "outputs": [
    {
     "name": "stdout",
     "output_type": "stream",
     "text": [
      "We have 1183 images available in the selected area!\n"
     ]
    }
   ],
   "source": [
    "#Results is a json object (which is already a list, so no need of json.loads). First we can try with the first\n",
    "#element of the json list.\n",
    "a = results_query[1]['properties']['footprintWkt']\n",
    "a_sp = sp.wkt.loads(a)\n",
    "\n",
    "#We have retrieve this number of images\n",
    "print(\"We have \"+ str(len(results_query)) + \" images available in the selected area!\")\n",
    "\n",
    "#Now that we have this, we can explore the spatial distribution of the images\n",
    "tiles = []\n",
    "for tile in results_query:\n",
    "    tiles.append(tile['properties']['footprintWkt'])\n"
   ]
  },
  {
   "cell_type": "code",
   "execution_count": 5,
   "metadata": {},
   "outputs": [],
   "source": [
    "#Interactive plot with available imagery\n",
    "from geomet import wkt\n",
    "import pandas as pd\n",
    "from pandas.io.json import json_normalize\n",
    "import folium\n",
    "\n",
    "#Create an interactive Leaflet map with the location of the torres strait\n",
    "torres_strait = folium.Map(location = [-10.144989750644969, 142.3181966067051,], \n",
    "                           tiles='OpenStreetMap', \n",
    "                           zoom_start=6\n",
    "                          )\n",
    "\n",
    "#Option 1: Only plot the available images with the same color\n",
    "tiles_geojson = []\n",
    "for img in results_query:\n",
    "    tiles_geojson.append(wkt.loads(img['properties']['footprintWkt']))\n",
    "    for tile in tiles_geojson:\n",
    "        tile[\"properties\"] = img[\"properties\"]\n",
    "        \n",
    "        \n",
    "style_function = lambda x: {'borderColor': 'rgba(255, 0, 0, 0)'}\n",
    "\n",
    "for tile in tiles_geojson:\n",
    "    folium.GeoJson(tile, style_function=style_function).add_to(torres_strait)\n",
    "        \n",
    "#Option 2: Create a pd DataFrame to make a cloropeth by month\n",
    "df_imgs = list(map(lambda x: x[\"properties\"], results_query))\n",
    "data_imgs = pd.read_json(json.dumps(df_imgs))\n",
    "\n",
    "#If you want to explore the data dataframe you can print:\n",
    "#print(data_imgs)\n",
    "\n",
    "\n"
   ]
  },
  {
   "cell_type": "code",
   "execution_count": 6,
   "metadata": {
    "scrolled": true
   },
   "outputs": [],
   "source": [
    "torres_strait.save(\"gbdx_torres_strait_coverage.html\")"
   ]
  },
  {
   "cell_type": "code",
   "execution_count": 6,
   "metadata": {},
   "outputs": [],
   "source": [
    "#Explore time of the images\n",
    "data_imgs[\"timestamp\"] = pd.to_datetime(data_imgs[\"timestamp\"])\n",
    "data_imgs[\"date\"] = pd.DatetimeIndex(data_imgs[\"timestamp\"]).normalize() #This is not needed, is only to learn how to remove time from timestamps\n",
    "data_imgs[\"day\"], data_imgs[\"month\"] = data_imgs[\"timestamp\"].dt.day, data_imgs[\"timestamp\"].dt.month\n",
    "data_imgs[\"hour\"], data_imgs[\"minute\"], data_imgs[\"second\"] = data_imgs[\"timestamp\"].dt.hour, data_imgs[\"timestamp\"].dt.minute, data_imgs[\"timestamp\"].dt.second \n",
    "#print(data_imgs)\n",
    "\n",
    "data_imgs_agg = pd.DataFrame(data_imgs.groupby([\"date\"]).size().rename(\"counts\"))\n",
    "data_imgs_agg[\"date\"] = data_imgs_agg.index\n",
    "data_imgs_agg[\"day\"], data_imgs_agg[\"month\"], data_imgs_agg[\"year\"] = data_imgs_agg[\"date\"].dt.day, data_imgs_agg[\"date\"].dt.month, data_imgs_agg[\"date\"].dt.year \n",
    "data_imgs_agg[\"month_year\"] = data_imgs_agg['month'].map(str)+\"-\"+data_imgs_agg[\"year\"].map(str)\n"
   ]
  },
  {
   "cell_type": "code",
   "execution_count": 7,
   "metadata": {
    "collapsed": true
   },
   "outputs": [],
   "source": [
    "#Create pivot table to visualize time\n",
    "data_imgs_piv = data_imgs_agg.pivot(index='day', columns=\"month_year\", values='counts')\n",
    "data_imgs_piv = data_imgs_piv.fillna(0)\n",
    "#print(data_imgs_piv)"
   ]
  },
  {
   "cell_type": "code",
   "execution_count": 8,
   "metadata": {},
   "outputs": [
    {
     "data": {
      "text/plain": [
       "<matplotlib.text.Text at 0x7f0daa181e80>"
      ]
     },
     "execution_count": 8,
     "metadata": {},
     "output_type": "execute_result"
    },
    {
     "data": {
      "image/png": "[encoded data removed]",
      "text/plain": [
       "<matplotlib.figure.Figure at 0x7f0daa4444e0>"
      ]
     },
     "metadata": {},
     "output_type": "display_data"
    }
   ],
   "source": [
    "#Method taken from: http://nbviewer.jupyter.org/gist/joelotz/5427209 based on FlowingData Graph. \n",
    "\n",
    "# Plot it out\n",
    "fig, ax = plt.subplots()\n",
    "heatmap = ax.pcolor(data_imgs_piv, cmap=plt.cm.Purples, alpha=0.8)\n",
    "\n",
    "##################################################\n",
    "## FORMAT ##\n",
    "##################################################\n",
    "\n",
    "fig = plt.gcf()\n",
    "fig.set_size_inches(8,11)\n",
    "\n",
    "# turn off the frame\n",
    "ax.set_frame_on(False)\n",
    "fig.colorbar(heatmap)\n",
    "\n",
    "# put the major ticks at the middle of each cell\n",
    "ax.set_yticks(np.arange(data_imgs_piv.shape[0])+0.5, minor=False)\n",
    "ax.set_xticks(np.arange(data_imgs_piv.shape[1])+0.5, minor=False)\n",
    "\n",
    "# want a more natural, table-like display\n",
    "ax.invert_yaxis()\n",
    "ax.xaxis.tick_top()\n",
    "\n",
    "# Set the labels\n",
    "labels = [\"May\", \"Jun\", \"Jul\", \"Aug\", \"Sept\", \"Oct\", \"Nov\", \"Dec\", 'Jan', \"Feb\", \"Mar\", \"Apr\", \"May\", \"Jun\"]\n",
    "\n",
    "# note I could have used nba_sort.columns but made \"labels\" instead\n",
    "ax.set_xticklabels(labels, minor=False) \n",
    "ax.set_yticklabels(data_imgs_piv.index, minor=False)\n",
    "\n",
    "# rotate the \n",
    "plt.xticks(rotation=90)\n",
    "ax.grid(False)\n",
    "\n",
    "# Turn off all the ticks\n",
    "ax = plt.gca()\n",
    "ax.set_title('Frequency of imagery collection - 2016\\n\\n\\n\\n') \n",
    "#plt.savefig('/mnt/data/shared/timeavailable.png')\n"
   ]
  }
 ],
 "metadata": {
  "kernelspec": {
   "display_name": "Python 3",
   "language": "python",
   "name": "python3"
  },
  "language_info": {
   "codemirror_mode": {
    "name": "ipython",
    "version": 3
   },
   "file_extension": ".py",
   "mimetype": "text/x-python",
   "name": "python",
   "nbconvert_exporter": "python",
   "pygments_lexer": "ipython3",
   "version": "3.5.3"
  }
 },
 "nbformat": 4,
 "nbformat_minor": 2
}
