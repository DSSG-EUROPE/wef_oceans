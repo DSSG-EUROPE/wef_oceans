{
 "cells": [
  {
   "cell_type": "markdown",
   "metadata": {},
   "source": [
    "# Intersection AIS with vessel lists"
   ]
  },
  {
   "cell_type": "markdown",
   "metadata": {},
   "source": [
    "Intersection of SPIRE AIS data with lists of IUU vessels and the proactive vessel registry. IUU lists come from multiple sources most comprehensively the combined_iuu_list. In addition MMSI spoofing indicator from GFW is used. Legitimate vessels are acquired from the pro-active vessel registry.\n",
    "\n",
    "Description of MMSI spoofing from GFW:\n",
    "\n",
    "<em>List of MMSIs that experience substantial ID spoofing\n",
    "\n",
    "By ID spoofing, we mean two or more vessels that are using the same MMSI at the same time. \n",
    "\n",
    "All the messages for an MMSI are grouped into sets of tracks that are contiguous spatially and temporally.  \n",
    "Each continuous track has a unique seg_id field added.  Some tracks contain invalid lan/lon (like 91, 181) and \n",
    "are put into a special 'BAD' segment. \n",
    "\n",
    "The test for spoofing is fairly naive - we simple compute the extent of each segment in time, add them all up, \n",
    "and compare that to the extent of time that the vessel is active.  If the segment time is longer than the \n",
    "active time, then we know that some of the segments must overlap, and this is the indication of ID spoofing.\n",
    "</em>"
   ]
  },
  {
   "cell_type": "code",
   "execution_count": 12,
   "metadata": {
    "collapsed": true
   },
   "outputs": [],
   "source": [
    "import pandas as pd\n",
    "import ais_query"
   ]
  },
  {
   "cell_type": "code",
   "execution_count": 20,
   "metadata": {
    "collapsed": true
   },
   "outputs": [],
   "source": [
    "vessel_lists = pd.read_csv('iuu_list_of_lists.csv')"
   ]
  },
  {
   "cell_type": "code",
   "execution_count": 13,
   "metadata": {},
   "outputs": [],
   "source": [
    "cols_position = ais_query.columns_position\n",
    "cols_static = ais_query.columns_static"
   ]
  },
  {
   "cell_type": "code",
   "execution_count": 31,
   "metadata": {},
   "outputs": [
    {
     "data": {
      "text/plain": [
       "gfw_spoofing         3385\n",
       "pvr_purse_seiner      571\n",
       "combined_iuu_list     120\n",
       "pvr_longline           45\n",
       "pvr_other              35\n",
       "IATTC                   4\n",
       "ICCAT                   3\n",
       "Name: list_source, dtype: int64"
      ]
     },
     "execution_count": 31,
     "metadata": {},
     "output_type": "execute_result"
    }
   ],
   "source": [
    "vessel_lists.list_source.value_counts()"
   ]
  },
  {
   "cell_type": "code",
   "execution_count": 78,
   "metadata": {},
   "outputs": [],
   "source": [
    "sql_statement = \"\"\"\n",
    "SELECT imo, mmsi, name, ship_and_cargo_type, length, width, eta_date, destination\n",
    "FROM ais_messages.ais_static;\n",
    "\"\"\"\n",
    "ais_static = ais_query.connect(sql_statement)\n",
    "ais_static.columns = ['imo', 'mmsi', 'name', 'ship_and_cargo_type', 'length', 'width', 'eta_date', 'destination']"
   ]
  },
  {
   "cell_type": "code",
   "execution_count": 79,
   "metadata": {},
   "outputs": [],
   "source": [
    "iuu_vessel_list = vessel_lists[vessel_lists.IUU=='yes']\n",
    "legitimate_vessel_list = vessel_lists[vessel_lists.IUU=='no']"
   ]
  },
  {
   "cell_type": "code",
   "execution_count": 80,
   "metadata": {},
   "outputs": [],
   "source": [
    "iuu_imo_filter = iuu_vessel_list[iuu_vessel_list.id_type=='IMO']\n",
    "iuu_mmsi_filter = iuu_vessel_list[iuu_vessel_list.id_type=='mmsi']\n",
    "legitimate_imo_filter = legitimate_vessel_list[legitimate_vessel_list.id_type=='IMO']\n",
    "legitimate_mmsi_filter = legitimate_vessel_list[legitimate_vessel_list.id_type=='mmsi']"
   ]
  },
  {
   "cell_type": "markdown",
   "metadata": {},
   "source": [
    "## iuu vessels intersection "
   ]
  },
  {
   "cell_type": "code",
   "execution_count": 115,
   "metadata": {},
   "outputs": [
    {
     "name": "stdout",
     "output_type": "stream",
     "text": [
      "unique_imo =  13\n"
     ]
    },
    {
     "data": {
      "text/html": [
       "<div>\n",
       "<style>\n",
       "    .dataframe thead tr:only-child th {\n",
       "        text-align: right;\n",
       "    }\n",
       "\n",
       "    .dataframe thead th {\n",
       "        text-align: left;\n",
       "    }\n",
       "\n",
       "    .dataframe tbody tr th {\n",
       "        vertical-align: top;\n",
       "    }\n",
       "</style>\n",
       "<table border=\"1\" class=\"dataframe\">\n",
       "  <thead>\n",
       "    <tr style=\"text-align: right;\">\n",
       "      <th></th>\n",
       "      <th>imo</th>\n",
       "      <th>mmsi</th>\n",
       "      <th>name</th>\n",
       "      <th>ship_and_cargo_type</th>\n",
       "      <th>length</th>\n",
       "      <th>width</th>\n",
       "      <th>eta_date</th>\n",
       "      <th>destination</th>\n",
       "      <th>IUU</th>\n",
       "      <th>id</th>\n",
       "      <th>id_type</th>\n",
       "      <th>list_source</th>\n",
       "    </tr>\n",
       "  </thead>\n",
       "  <tbody>\n",
       "    <tr>\n",
       "      <th>0</th>\n",
       "      <td>8.91399e+06</td>\n",
       "      <td>370070000</td>\n",
       "      <td>FONG KUO  NO.819</td>\n",
       "      <td>70.0</td>\n",
       "      <td>115.0</td>\n",
       "      <td>16.0</td>\n",
       "      <td>2018-05-30 11:30:00 UTC</td>\n",
       "      <td>MAJURO</td>\n",
       "      <td>yes</td>\n",
       "      <td>8913992</td>\n",
       "      <td>IMO</td>\n",
       "      <td>combined_iuu_list</td>\n",
       "    </tr>\n",
       "    <tr>\n",
       "      <th>4</th>\n",
       "      <td>8.91399e+06</td>\n",
       "      <td>370070000</td>\n",
       "      <td>FONG KUO  NO.819</td>\n",
       "      <td>70.0</td>\n",
       "      <td>115.0</td>\n",
       "      <td>16.0</td>\n",
       "      <td>2017-05-30 11:30:00 UTC</td>\n",
       "      <td>MAJURO</td>\n",
       "      <td>yes</td>\n",
       "      <td>8913992</td>\n",
       "      <td>IMO</td>\n",
       "      <td>combined_iuu_list</td>\n",
       "    </tr>\n",
       "    <tr>\n",
       "      <th>9</th>\n",
       "      <td>8.91399e+06</td>\n",
       "      <td>370070000</td>\n",
       "      <td>FONG KUO  NO.819</td>\n",
       "      <td>70.0</td>\n",
       "      <td>115.0</td>\n",
       "      <td>16.0</td>\n",
       "      <td>2017-06-26 08:18:00 UTC</td>\n",
       "      <td>BANGKOK</td>\n",
       "      <td>yes</td>\n",
       "      <td>8913992</td>\n",
       "      <td>IMO</td>\n",
       "      <td>combined_iuu_list</td>\n",
       "    </tr>\n",
       "    <tr>\n",
       "      <th>45</th>\n",
       "      <td>8.02842e+06</td>\n",
       "      <td>616999336</td>\n",
       "      <td>DUBREKA</td>\n",
       "      <td>70.0</td>\n",
       "      <td>81.0</td>\n",
       "      <td>15.0</td>\n",
       "      <td>2018-04-30 08:00:00 UTC</td>\n",
       "      <td>FREETOWN</td>\n",
       "      <td>yes</td>\n",
       "      <td>8028424</td>\n",
       "      <td>IMO</td>\n",
       "      <td>combined_iuu_list</td>\n",
       "    </tr>\n",
       "    <tr>\n",
       "      <th>46</th>\n",
       "      <td>8.02842e+06</td>\n",
       "      <td>616999336</td>\n",
       "      <td>DUBREKA</td>\n",
       "      <td>70.0</td>\n",
       "      <td>81.0</td>\n",
       "      <td>15.0</td>\n",
       "      <td>2017-06-09 08:00:00 UTC</td>\n",
       "      <td>FREETOWN</td>\n",
       "      <td>yes</td>\n",
       "      <td>8028424</td>\n",
       "      <td>IMO</td>\n",
       "      <td>combined_iuu_list</td>\n",
       "    </tr>\n",
       "  </tbody>\n",
       "</table>\n",
       "</div>"
      ],
      "text/plain": [
       "            imo       mmsi              name  ship_and_cargo_type  length  \\\n",
       "0   8.91399e+06  370070000  FONG KUO  NO.819                 70.0   115.0   \n",
       "4   8.91399e+06  370070000  FONG KUO  NO.819                 70.0   115.0   \n",
       "9   8.91399e+06  370070000  FONG KUO  NO.819                 70.0   115.0   \n",
       "45  8.02842e+06  616999336           DUBREKA                 70.0    81.0   \n",
       "46  8.02842e+06  616999336           DUBREKA                 70.0    81.0   \n",
       "\n",
       "    width                 eta_date destination  IUU       id id_type  \\\n",
       "0    16.0  2018-05-30 11:30:00 UTC      MAJURO  yes  8913992     IMO   \n",
       "4    16.0  2017-05-30 11:30:00 UTC      MAJURO  yes  8913992     IMO   \n",
       "9    16.0  2017-06-26 08:18:00 UTC     BANGKOK  yes  8913992     IMO   \n",
       "45   15.0  2018-04-30 08:00:00 UTC    FREETOWN  yes  8028424     IMO   \n",
       "46   15.0  2017-06-09 08:00:00 UTC    FREETOWN  yes  8028424     IMO   \n",
       "\n",
       "          list_source  \n",
       "0   combined_iuu_list  \n",
       "4   combined_iuu_list  \n",
       "9   combined_iuu_list  \n",
       "45  combined_iuu_list  \n",
       "46  combined_iuu_list  "
      ]
     },
     "execution_count": 115,
     "metadata": {},
     "output_type": "execute_result"
    }
   ],
   "source": [
    "print(\"unique_imo = \", len(pd.merge(ais_static, iuu_imo_filter, how='inner', left_on=['imo'], right_on=['id']).drop_duplicates().mmsi.unique()))\n",
    "pd.merge(ais_static, iuu_imo_filter, how='inner', left_on=['imo'], right_on=['id']).drop_duplicates().head()"
   ]
  },
  {
   "cell_type": "markdown",
   "metadata": {},
   "source": [
    "## iuu vessels with mmsi spoofing detected by GFW"
   ]
  },
  {
   "cell_type": "code",
   "execution_count": 114,
   "metadata": {},
   "outputs": [
    {
     "name": "stdout",
     "output_type": "stream",
     "text": [
      "unique_mmsi =  861\n"
     ]
    },
    {
     "data": {
      "text/html": [
       "<div>\n",
       "<style>\n",
       "    .dataframe thead tr:only-child th {\n",
       "        text-align: right;\n",
       "    }\n",
       "\n",
       "    .dataframe thead th {\n",
       "        text-align: left;\n",
       "    }\n",
       "\n",
       "    .dataframe tbody tr th {\n",
       "        vertical-align: top;\n",
       "    }\n",
       "</style>\n",
       "<table border=\"1\" class=\"dataframe\">\n",
       "  <thead>\n",
       "    <tr style=\"text-align: right;\">\n",
       "      <th></th>\n",
       "      <th>imo</th>\n",
       "      <th>mmsi</th>\n",
       "      <th>name</th>\n",
       "      <th>ship_and_cargo_type</th>\n",
       "      <th>length</th>\n",
       "      <th>width</th>\n",
       "      <th>eta_date</th>\n",
       "      <th>destination</th>\n",
       "      <th>IUU</th>\n",
       "      <th>id</th>\n",
       "      <th>id_type</th>\n",
       "      <th>list_source</th>\n",
       "    </tr>\n",
       "  </thead>\n",
       "  <tbody>\n",
       "    <tr>\n",
       "      <th>0</th>\n",
       "      <td>NaN</td>\n",
       "      <td>416088900</td>\n",
       "      <td>HUNG SHING NO.212</td>\n",
       "      <td>NaN</td>\n",
       "      <td>NaN</td>\n",
       "      <td>NaN</td>\n",
       "      <td>None</td>\n",
       "      <td>None</td>\n",
       "      <td>yes</td>\n",
       "      <td>416088900</td>\n",
       "      <td>mmsi</td>\n",
       "      <td>gfw_spoofing</td>\n",
       "    </tr>\n",
       "    <tr>\n",
       "      <th>5</th>\n",
       "      <td>NaN</td>\n",
       "      <td>416088900</td>\n",
       "      <td>None</td>\n",
       "      <td>30.0</td>\n",
       "      <td>50.0</td>\n",
       "      <td>6.0</td>\n",
       "      <td>None</td>\n",
       "      <td>None</td>\n",
       "      <td>yes</td>\n",
       "      <td>416088900</td>\n",
       "      <td>mmsi</td>\n",
       "      <td>gfw_spoofing</td>\n",
       "    </tr>\n",
       "    <tr>\n",
       "      <th>372</th>\n",
       "      <td>NaN</td>\n",
       "      <td>111111114</td>\n",
       "      <td>A07</td>\n",
       "      <td>NaN</td>\n",
       "      <td>NaN</td>\n",
       "      <td>NaN</td>\n",
       "      <td>None</td>\n",
       "      <td>None</td>\n",
       "      <td>yes</td>\n",
       "      <td>111111114</td>\n",
       "      <td>mmsi</td>\n",
       "      <td>gfw_spoofing</td>\n",
       "    </tr>\n",
       "    <tr>\n",
       "      <th>715</th>\n",
       "      <td>NaN</td>\n",
       "      <td>111111114</td>\n",
       "      <td>A47BB</td>\n",
       "      <td>NaN</td>\n",
       "      <td>NaN</td>\n",
       "      <td>NaN</td>\n",
       "      <td>None</td>\n",
       "      <td>None</td>\n",
       "      <td>yes</td>\n",
       "      <td>111111114</td>\n",
       "      <td>mmsi</td>\n",
       "      <td>gfw_spoofing</td>\n",
       "    </tr>\n",
       "    <tr>\n",
       "      <th>753</th>\n",
       "      <td>0.0</td>\n",
       "      <td>0</td>\n",
       "      <td></td>\n",
       "      <td>80.0</td>\n",
       "      <td>338.0</td>\n",
       "      <td>1.0</td>\n",
       "      <td>None</td>\n",
       "      <td>B)</td>\n",
       "      <td>yes</td>\n",
       "      <td>0</td>\n",
       "      <td>mmsi</td>\n",
       "      <td>gfw_spoofing</td>\n",
       "    </tr>\n",
       "  </tbody>\n",
       "</table>\n",
       "</div>"
      ],
      "text/plain": [
       "     imo       mmsi               name  ship_and_cargo_type  length  width  \\\n",
       "0    NaN  416088900  HUNG SHING NO.212                  NaN     NaN    NaN   \n",
       "5    NaN  416088900               None                 30.0    50.0    6.0   \n",
       "372  NaN  111111114                A07                  NaN     NaN    NaN   \n",
       "715  NaN  111111114              A47BB                  NaN     NaN    NaN   \n",
       "753  0.0          0                                    80.0   338.0    1.0   \n",
       "\n",
       "    eta_date destination  IUU         id id_type   list_source  \n",
       "0       None        None  yes  416088900    mmsi  gfw_spoofing  \n",
       "5       None        None  yes  416088900    mmsi  gfw_spoofing  \n",
       "372     None        None  yes  111111114    mmsi  gfw_spoofing  \n",
       "715     None        None  yes  111111114    mmsi  gfw_spoofing  \n",
       "753     None          B)  yes          0    mmsi  gfw_spoofing  "
      ]
     },
     "execution_count": 114,
     "metadata": {},
     "output_type": "execute_result"
    }
   ],
   "source": [
    "print(\"unique_mmsi = \", len(pd.merge(ais_static, iuu_mmsi_filter, how='inner', left_on=['mmsi'], right_on=['id']).drop_duplicates().mmsi.unique()))\n",
    "pd.merge(ais_static, iuu_mmsi_filter, how='inner', left_on=['mmsi'], right_on=['id']).drop_duplicates().head()"
   ]
  },
  {
   "cell_type": "markdown",
   "metadata": {},
   "source": [
    "## legitimate vessels"
   ]
  },
  {
   "cell_type": "code",
   "execution_count": 113,
   "metadata": {},
   "outputs": [
    {
     "name": "stdout",
     "output_type": "stream",
     "text": [
      "unique_imo =  267\n"
     ]
    },
    {
     "data": {
      "text/html": [
       "<div>\n",
       "<style>\n",
       "    .dataframe thead tr:only-child th {\n",
       "        text-align: right;\n",
       "    }\n",
       "\n",
       "    .dataframe thead th {\n",
       "        text-align: left;\n",
       "    }\n",
       "\n",
       "    .dataframe tbody tr th {\n",
       "        vertical-align: top;\n",
       "    }\n",
       "</style>\n",
       "<table border=\"1\" class=\"dataframe\">\n",
       "  <thead>\n",
       "    <tr style=\"text-align: right;\">\n",
       "      <th></th>\n",
       "      <th>imo</th>\n",
       "      <th>mmsi</th>\n",
       "      <th>name</th>\n",
       "      <th>ship_and_cargo_type</th>\n",
       "      <th>length</th>\n",
       "      <th>width</th>\n",
       "      <th>eta_date</th>\n",
       "      <th>destination</th>\n",
       "      <th>IUU</th>\n",
       "      <th>id</th>\n",
       "      <th>id_type</th>\n",
       "      <th>list_source</th>\n",
       "    </tr>\n",
       "  </thead>\n",
       "  <tbody>\n",
       "    <tr>\n",
       "      <th>0</th>\n",
       "      <td>9.51728e+06</td>\n",
       "      <td>367344000</td>\n",
       "      <td>SEA HONOR</td>\n",
       "      <td>30.0</td>\n",
       "      <td>63.0</td>\n",
       "      <td>12.0</td>\n",
       "      <td>None</td>\n",
       "      <td></td>\n",
       "      <td>no</td>\n",
       "      <td>9517276</td>\n",
       "      <td>IMO</td>\n",
       "      <td>pvr_purse_seiner</td>\n",
       "    </tr>\n",
       "    <tr>\n",
       "      <th>94</th>\n",
       "      <td>9.51728e+06</td>\n",
       "      <td>365246848</td>\n",
       "      <td>CEA HONOR</td>\n",
       "      <td>30.0</td>\n",
       "      <td>63.0</td>\n",
       "      <td>44.0</td>\n",
       "      <td>None</td>\n",
       "      <td></td>\n",
       "      <td>no</td>\n",
       "      <td>9517276</td>\n",
       "      <td>IMO</td>\n",
       "      <td>pvr_purse_seiner</td>\n",
       "    </tr>\n",
       "    <tr>\n",
       "      <th>169</th>\n",
       "      <td>9.51728e+06</td>\n",
       "      <td>300235136</td>\n",
       "      <td>W%A0HONO2!</td>\n",
       "      <td>30.0</td>\n",
       "      <td>59.0</td>\n",
       "      <td>12.0</td>\n",
       "      <td>None</td>\n",
       "      <td></td>\n",
       "      <td>no</td>\n",
       "      <td>9517276</td>\n",
       "      <td>IMO</td>\n",
       "      <td>pvr_purse_seiner</td>\n",
       "    </tr>\n",
       "    <tr>\n",
       "      <th>198</th>\n",
       "      <td>8.13465e+06</td>\n",
       "      <td>354622000</td>\n",
       "      <td>LA PENA</td>\n",
       "      <td>30.0</td>\n",
       "      <td>73.0</td>\n",
       "      <td>19.0</td>\n",
       "      <td>2018-04-05 19:00:00 UTC</td>\n",
       "      <td>QUTZAL, GUATEMALA</td>\n",
       "      <td>no</td>\n",
       "      <td>8134651</td>\n",
       "      <td>IMO</td>\n",
       "      <td>pvr_purse_seiner</td>\n",
       "    </tr>\n",
       "    <tr>\n",
       "      <th>229</th>\n",
       "      <td>8.9961e+06</td>\n",
       "      <td>553111756</td>\n",
       "      <td>ATUN STA</td>\n",
       "      <td>30.0</td>\n",
       "      <td>80.0</td>\n",
       "      <td>13.0</td>\n",
       "      <td>None</td>\n",
       "      <td></td>\n",
       "      <td>no</td>\n",
       "      <td>8996097</td>\n",
       "      <td>IMO</td>\n",
       "      <td>pvr_purse_seiner</td>\n",
       "    </tr>\n",
       "  </tbody>\n",
       "</table>\n",
       "</div>"
      ],
      "text/plain": [
       "             imo       mmsi        name  ship_and_cargo_type  length  width  \\\n",
       "0    9.51728e+06  367344000   SEA HONOR                 30.0    63.0   12.0   \n",
       "94   9.51728e+06  365246848   CEA HONOR                 30.0    63.0   44.0   \n",
       "169  9.51728e+06  300235136  W%A0HONO2!                 30.0    59.0   12.0   \n",
       "198  8.13465e+06  354622000     LA PENA                 30.0    73.0   19.0   \n",
       "229   8.9961e+06  553111756    ATUN STA                 30.0    80.0   13.0   \n",
       "\n",
       "                    eta_date        destination IUU       id id_type  \\\n",
       "0                       None                     no  9517276     IMO   \n",
       "94                      None                     no  9517276     IMO   \n",
       "169                     None                     no  9517276     IMO   \n",
       "198  2018-04-05 19:00:00 UTC  QUTZAL, GUATEMALA  no  8134651     IMO   \n",
       "229                     None                     no  8996097     IMO   \n",
       "\n",
       "          list_source  \n",
       "0    pvr_purse_seiner  \n",
       "94   pvr_purse_seiner  \n",
       "169  pvr_purse_seiner  \n",
       "198  pvr_purse_seiner  \n",
       "229  pvr_purse_seiner  "
      ]
     },
     "execution_count": 113,
     "metadata": {},
     "output_type": "execute_result"
    }
   ],
   "source": [
    "print(\"unique_imo = \",len(pd.merge(ais_static, legitimate_imo_filter, how='inner', left_on=['imo'], right_on=['id']).drop_duplicates().mmsi.unique()))\n",
    "pd.merge(ais_static, legitimate_imo_filter, how='inner', left_on=['imo'], right_on=['id']).drop_duplicates().head()"
   ]
  },
  {
   "cell_type": "code",
   "execution_count": 109,
   "metadata": {},
   "outputs": [
    {
     "name": "stdout",
     "output_type": "stream",
     "text": [
      "unique_mmsi =  0\n"
     ]
    },
    {
     "data": {
      "text/html": [
       "<div>\n",
       "<style>\n",
       "    .dataframe thead tr:only-child th {\n",
       "        text-align: right;\n",
       "    }\n",
       "\n",
       "    .dataframe thead th {\n",
       "        text-align: left;\n",
       "    }\n",
       "\n",
       "    .dataframe tbody tr th {\n",
       "        vertical-align: top;\n",
       "    }\n",
       "</style>\n",
       "<table border=\"1\" class=\"dataframe\">\n",
       "  <thead>\n",
       "    <tr style=\"text-align: right;\">\n",
       "      <th></th>\n",
       "      <th>imo</th>\n",
       "      <th>mmsi</th>\n",
       "      <th>name</th>\n",
       "      <th>ship_and_cargo_type</th>\n",
       "      <th>length</th>\n",
       "      <th>width</th>\n",
       "      <th>eta_date</th>\n",
       "      <th>destination</th>\n",
       "      <th>IUU</th>\n",
       "      <th>id</th>\n",
       "      <th>id_type</th>\n",
       "      <th>list_source</th>\n",
       "    </tr>\n",
       "  </thead>\n",
       "  <tbody>\n",
       "  </tbody>\n",
       "</table>\n",
       "</div>"
      ],
      "text/plain": [
       "Empty DataFrame\n",
       "Columns: [imo, mmsi, name, ship_and_cargo_type, length, width, eta_date, destination, IUU, id, id_type, list_source]\n",
       "Index: []"
      ]
     },
     "execution_count": 109,
     "metadata": {},
     "output_type": "execute_result"
    }
   ],
   "source": [
    "print(\"unique_mmsi = \",len(pd.merge(ais_static, legitimate_mmsi_filter, how='inner', left_on=['mmsi'], right_on=['id']).drop_duplicates().mmsi.unique()))\n",
    "pd.merge(ais_static, legitimate_mmsi_filter, how='inner', left_on=['mmsi'], right_on=['id']).drop_duplicates().head()"
   ]
  }
 ],
 "metadata": {
  "kernelspec": {
   "display_name": "Python 3",
   "language": "python",
   "name": "python3"
  },
  "language_info": {
   "codemirror_mode": {
    "name": "ipython",
    "version": 3
   },
   "file_extension": ".py",
   "mimetype": "text/x-python",
   "name": "python",
   "nbconvert_exporter": "python",
   "pygments_lexer": "ipython3",
   "version": "3.5.3"
  }
 },
 "nbformat": 4,
 "nbformat_minor": 2
}
