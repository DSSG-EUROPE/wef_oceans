{
 "cells": [
  {
   "cell_type": "code",
   "execution_count": 33,
   "metadata": {},
   "outputs": [
    {
     "ename": "ImportError",
     "evalue": "No module named 'jq'",
     "output_type": "error",
     "traceback": [
      "\u001b[0;31m---------------------------------------------------------------------------\u001b[0m",
      "\u001b[0;31mImportError\u001b[0m                               Traceback (most recent call last)",
      "\u001b[0;32m<ipython-input-33-101570243f76>\u001b[0m in \u001b[0;36m<module>\u001b[0;34m()\u001b[0m\n\u001b[1;32m      1\u001b[0m \u001b[0;32mfrom\u001b[0m \u001b[0mplanet\u001b[0m \u001b[0;32mimport\u001b[0m \u001b[0mapi\u001b[0m\u001b[0;34m\u001b[0m\u001b[0m\n\u001b[1;32m      2\u001b[0m \u001b[0;32mimport\u001b[0m \u001b[0mjson\u001b[0m\u001b[0;34m\u001b[0m\u001b[0m\n\u001b[0;32m----> 3\u001b[0;31m \u001b[0;32mimport\u001b[0m \u001b[0mjq\u001b[0m\u001b[0;34m\u001b[0m\u001b[0m\n\u001b[0m\u001b[1;32m      4\u001b[0m \u001b[0;32mimport\u001b[0m \u001b[0mrequests\u001b[0m\u001b[0;34m\u001b[0m\u001b[0m\n",
      "\u001b[0;31mImportError\u001b[0m: No module named 'jq'"
     ]
    }
   ],
   "source": [
    "from planet import api\n",
    "import json\n",
    "import jq\n",
    "import requests"
   ]
  },
  {
   "cell_type": "code",
   "execution_count": 31,
   "metadata": {},
   "outputs": [
    {
     "data": {
      "text/plain": [
       "<planet.api.auth.APIKey at 0x7f0ea58f6cf8>"
      ]
     },
     "execution_count": 31,
     "metadata": {},
     "output_type": "execute_result"
    }
   ],
   "source": [
    "#Retrieve API key from database module Python file)\n",
    "client = api.ClientV1(database.PL_API_KEY)\n",
    "client.auth\n",
    "\n",
    "def p(data):\n",
    "    print(json.dumps(data, indent=2))"
   ]
  },
  {
   "cell_type": "code",
   "execution_count": 32,
   "metadata": {
    "collapsed": true
   },
   "outputs": [],
   "source": [
    "from planet.api import filters\n",
    "from datetime import datetime\n",
    "\n",
    "#Date filters\n",
    "start_date = datetime(year = 2010, month = 1, day = 1)\n",
    "date_filter = filters.date_range('adquired', gte=start_date)\n",
    "\n",
    "#Img features filters\n",
    "cloud_filter = filters.range_filter('cloud_cover', lte = 0.2)\n",
    "and_filter = filters.and_filter(date_filter, cloud_filter)\n",
    "\n",
    "#Type of items\n",
    "p(and_filter)\n",
    "#Geom filters\n",
    "rotterdam = json.laods(\n",
    "    '''\n",
    "    {\n",
    "  \"type\": \"FeatureCollection\",\n",
    "  \"features\": [\n",
    "    {\n",
    "      \"type\": \"Feature\",\n",
    "      \"properties\": {},\n",
    "      \"geometry\": {\n",
    "        \"type\": \"Polygon\",\n",
    "        \"coordinates\": [\n",
    "          [\n",
    "            [\n",
    "              4.3636322021484375,\n",
    "              52.00390587562168\n",
    "            ],\n",
    "            [\n",
    "              4.3670654296875,\n",
    "              51.866740062051775\n",
    "            ],\n",
    "            [\n",
    "              4.647216796875,\n",
    "              51.86589205704118\n",
    "            ],\n",
    "            [\n",
    "              4.651336669921875,\n",
    "              51.99714209583072\n",
    "            ],\n",
    "            [\n",
    "              4.3636322021484375,\n",
    "              52.00390587562168\n",
    "            ]\n",
    "          ]\n",
    "        ]\n",
    "      }\n",
    "    }\n",
    "  ]\n",
    "}\n",
    "''')\n",
    "  \n"
   ]
  },
  {
   "cell_type": "code",
   "execution_count": null,
   "metadata": {
    "collapsed": true
   },
   "outputs": [],
   "source": []
  }
 ],
 "metadata": {
  "kernelspec": {
   "display_name": "Python 3",
   "language": "python",
   "name": "python3"
  },
  "language_info": {
   "codemirror_mode": {
    "name": "ipython",
    "version": 3
   },
   "file_extension": ".py",
   "mimetype": "text/x-python",
   "name": "python",
   "nbconvert_exporter": "python",
   "pygments_lexer": "ipython3",
   "version": "3.5.3"
  }
 },
 "nbformat": 4,
 "nbformat_minor": 2
}
